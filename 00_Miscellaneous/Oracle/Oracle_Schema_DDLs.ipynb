{
 "cells": [
  {
   "cell_type": "code",
   "execution_count": null,
   "metadata": {},
   "outputs": [],
   "source": [
    "import os\n",
    "import re\n",
    "import pandas as pd\n",
    "import cx_Oracle"
   ]
  },
  {
   "cell_type": "code",
   "execution_count": null,
   "metadata": {},
   "outputs": [],
   "source": [
    "# Config\n",
    "dsn_tns = cx_Oracle.makedsn('xxxxx', '1521', service_name='xxxxx') # if needed, place an 'r' before any parameter in order to address special characters such as '\\'.\n",
    "conn = cx_Oracle.connect(user=r'xxxx', password='xxxx', dsn=dsn_tns) # if needed, place an 'r' before any parameter in order to address special characters such as '\\'. For example, if your user name contains '\\', you'll need to place 'r' before the user name: user=r'User Name'"
   ]
  },
  {
   "cell_type": "code",
   "execution_count": null,
   "metadata": {},
   "outputs": [],
   "source": [
    "# Provide tablenames as list (uppercase table names for Oracle)\n",
    "# if you need all tables in a schema, run a query and get it to a pandas dataframe\n",
    "\n",
    "table_names = ['TABLE1', 'TABLE2']\n",
    "\n",
    "for table_name in table_names:\n",
    "    sql = (f\"SELECT TABLE_NAME, COLUMN_NAME, COLUMN_ID, DATA_TYPE, DATA_PRECISION, DATA_SCALE, \\\n",
    "    CASE WHEN DATA_TYPE = 'NUMBER' AND DATA_SCALE = 0 THEN 'YES' \\\n",
    "         WHEN DATA_TYPE = 'NUMBER' AND COLUMN_NAME LIKE '%_KEY' THEN 'YES' ELSE 'NO' END AS IS_INTEGER \\\n",
    "    FROM ALL_TAB_COLUMNS WHERE TABLE_NAME = '{table_name}' ORDER BY 1, 3\")\n",
    "    \n",
    "    df = pd.read_sql(sql, con=conn)   \n",
    "    print(table_name)\n",
    "    sample = []\n",
    "    cols = []\n",
    "    for index, row in df.iterrows():\n",
    "        if row['DATA_TYPE'] == 'DATE':\n",
    "            sample.append('1900/01/01 00:00:00')\n",
    "        if ((row['DATA_TYPE'] == 'VARCHAR2') or row['DATA_TYPE'] == 'CHAR'):\n",
    "            sample.append('-')\n",
    "        if (row['DATA_TYPE'] == 'NUMBER' and row['IS_INTEGER'] == 'YES'):\n",
    "        sample.append(0)\n",
    "        if (row['DATA_TYPE'] == 'NUMBER' and row['IS_INTEGER'] == 'NO'):\n",
    "            sample.append(0.1)      \n",
    "        cols.append(row['COLUMN_NAME'])    \n",
    "    df['Sample'] = sample        \n",
    "\n",
    "    res = df.pivot(index = 'TABLE_NAME', columns = 'COLUMN_ID', values='Sample')\n",
    "    res.reset_index()\n",
    "    res.to_csv(table_name+'.csv', index=False, header = cols)"
   ]
  },
  {
   "cell_type": "code",
   "execution_count": null,
   "metadata": {},
   "outputs": [],
   "source": [
    "# Adhoc Schema File Generation\n",
    "table_name = 'ADHOC_TBL1'\n",
    "\n",
    "sql = (f\"SELECT TABLE_NAME, COLUMN_NAME, COLUMN_ID, DATA_TYPE, DATA_PRECISION, DATA_SCALE, \\\n",
    "CASE WHEN DATA_TYPE = 'NUMBER' AND DATA_SCALE = 0 THEN 'YES' \\\n",
    "     WHEN DATA_TYPE = 'NUMBER' AND COLUMN_NAME LIKE '%_KEY' THEN 'YES' ELSE 'NO' END AS IS_INTEGER \\\n",
    "FROM ALL_TAB_COLUMNS WHERE TABLE_NAME = '{table_name}' ORDER BY 1, 3\")\n",
    "\n",
    "df = pd.read_sql(sql, con=conn)\n",
    "\n",
    "sample = []\n",
    "cols = []\n",
    "for index, row in df.iterrows():\n",
    "    if row['DATA_TYPE'] == 'DATE':\n",
    "        sample.append('1900/01/01 00:00:00')\n",
    "    if ((row['DATA_TYPE'] == 'VARCHAR2') or row['DATA_TYPE'] == 'CHAR'):\n",
    "        sample.append('-')\n",
    "    if (row['DATA_TYPE'] == 'NUMBER' and row['IS_INTEGER'] == 'YES'):\n",
    "        sample.append(0)\n",
    "    if (row['DATA_TYPE'] == 'NUMBER' and row['IS_INTEGER'] == 'NO'):\n",
    "        sample.append(0.1)\n",
    "    cols.append(row['COLUMN_NAME'])\n",
    "df['Sample'] = sample\n",
    "\n",
    "res = df.pivot(index = 'TABLE_NAME', columns = 'COLUMN_ID', values='Sample')\n",
    "res.reset_index()\n",
    "res.to_csv(table_name+'.csv', index=False, header = cols)"
   ]
  }
 ],
 "metadata": {
  "kernelspec": {
   "display_name": "Python 3",
   "language": "python",
   "name": "python3"
  },
  "language_info": {
   "codemirror_mode": {
    "name": "ipython",
    "version": 3
   },
   "file_extension": ".py",
   "mimetype": "text/x-python",
   "name": "python",
   "nbconvert_exporter": "python",
   "pygments_lexer": "ipython3",
   "version": "3.7.6"
  }
 },
 "nbformat": 4,
 "nbformat_minor": 2
}
