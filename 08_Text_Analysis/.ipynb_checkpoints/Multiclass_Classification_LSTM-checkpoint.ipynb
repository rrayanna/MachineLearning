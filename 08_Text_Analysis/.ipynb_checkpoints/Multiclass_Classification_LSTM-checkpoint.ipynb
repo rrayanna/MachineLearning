{
 "cells": [
  {
   "cell_type": "markdown",
   "metadata": {},
   "source": [
    "Kaggle - https://www.kaggle.com/uciml/news-aggregator-dataset"
   ]
  },
  {
   "cell_type": "code",
   "execution_count": 12,
   "metadata": {
    "_cell_guid": "b1076dfc-b9ad-4769-8c92-a6c4dae69d19",
    "_uuid": "8f2839f25d086af736a60e9eeb907d3b93b6e0e5"
   },
   "outputs": [],
   "source": [
    "import numpy as np # linear algebra\n",
    "import pandas as pd # data processing, CSV file I/O (e.g. pd.read_csv)\n",
    "import os\n",
    "import matplotlib.pyplot as plt\n",
    "import seaborn as sns\n",
    "\n",
    "import tensorflow as tf\n",
    "from tensorflow import keras\n",
    "from keras.preprocessing.text import Tokenizer\n",
    "from keras.preprocessing.sequence import pad_sequences\n",
    "from keras.utils.np_utils import to_categorical\n",
    "\n",
    "from sklearn.feature_extraction.text import CountVectorizer\n",
    "from sklearn.model_selection import train_test_split"
   ]
  },
  {
   "cell_type": "code",
   "execution_count": 3,
   "metadata": {
    "_cell_guid": "79c7e3d0-c299-4dcb-8224-4455121ee9b0",
    "_uuid": "d629ff2d2480ee46fbb7e2d37f6b5fab8052498a"
   },
   "outputs": [],
   "source": [
    "data = pd.read_csv('../input/news-aggregator-dataset/uci-news-aggregator.csv', usecols=['TITLE', 'CATEGORY'])"
   ]
  },
  {
   "cell_type": "code",
   "execution_count": 6,
   "metadata": {},
   "outputs": [
    {
     "name": "stdout",
     "output_type": "stream",
     "text": [
      "<class 'pandas.core.frame.DataFrame'>\n",
      "RangeIndex: 422419 entries, 0 to 422418\n",
      "Data columns (total 2 columns):\n",
      " #   Column    Non-Null Count   Dtype \n",
      "---  ------    --------------   ----- \n",
      " 0   TITLE     422419 non-null  object\n",
      " 1   CATEGORY  422419 non-null  object\n",
      "dtypes: object(2)\n",
      "memory usage: 6.4+ MB\n"
     ]
    }
   ],
   "source": [
    "data.info()"
   ]
  },
  {
   "cell_type": "code",
   "execution_count": 9,
   "metadata": {},
   "outputs": [
    {
     "data": {
      "text/plain": [
       "e    152469\n",
       "b    115967\n",
       "t    108344\n",
       "m     45639\n",
       "Name: CATEGORY, dtype: int64"
      ]
     },
     "execution_count": 9,
     "metadata": {},
     "output_type": "execute_result"
    },
    {
     "data": {
      "image/png": "[encoded data removed]",
      "text/plain": [
       "<Figure size 432x288 with 1 Axes>"
      ]
     },
     "metadata": {
      "needs_background": "light"
     },
     "output_type": "display_data"
    }
   ],
   "source": [
    "data.CATEGORY.value_counts().plot(kind = 'barh', title = 'Category Distributions')\n",
    "data.CATEGORY.value_counts()"
   ]
  },
  {
   "cell_type": "code",
   "execution_count": 10,
   "metadata": {},
   "outputs": [],
   "source": [
    "# Balance the classes for training\n",
    "num_of_categories = 45000\n",
    "shuffled = data.reindex(np.random.permutation(data.index))\n",
    "e = shuffled[shuffled['CATEGORY'] == 'e'][:num_of_categories]\n",
    "b = shuffled[shuffled['CATEGORY'] == 'b'][:num_of_categories]\n",
    "t = shuffled[shuffled['CATEGORY'] == 't'][:num_of_categories]\n",
    "m = shuffled[shuffled['CATEGORY'] == 'm'][:num_of_categories]\n",
    "concated = pd.concat([e,b,t,m], ignore_index=True)\n",
    "#Shuffle the dataset\n",
    "concated = concated.reindex(np.random.permutation(concated.index))"
   ]
  },
  {
   "cell_type": "code",
   "execution_count": 15,
   "metadata": {},
   "outputs": [
    {
     "name": "stdout",
     "output_type": "stream",
     "text": [
      "7047      0\n",
      "157080    3\n",
      "35081     0\n",
      "51149     1\n",
      "151886    3\n",
      "40597     0\n",
      "107016    2\n",
      "168461    3\n",
      "76836     1\n",
      "176541    3\n",
      "Name: LABEL, dtype: int64\n"
     ]
    },
    {
     "data": {
      "text/plain": [
       "'\\n[1. 0. 0. 0.] e\\n[0. 1. 0. 0.] b\\n[0. 0. 1. 0.] t\\n[0. 0. 0. 1.] m\\n'"
      ]
     },
     "execution_count": 15,
     "metadata": {},
     "output_type": "execute_result"
    }
   ],
   "source": [
    "#One-hot encode the label\n",
    "concated['LABEL'] = 0\n",
    "concated.loc[concated['CATEGORY'] == 'e', 'LABEL'] = 0\n",
    "concated.loc[concated['CATEGORY'] == 'b', 'LABEL'] = 1\n",
    "concated.loc[concated['CATEGORY'] == 't', 'LABEL'] = 2\n",
    "concated.loc[concated['CATEGORY'] == 'm', 'LABEL'] = 3\n",
    "print(concated['LABEL'][:10])\n",
    "labels = to_categorical(concated['LABEL'], num_classes=4)\n",
    "\n",
    "if 'CATEGORY' in concated.keys():\n",
    "    concated.drop(['CATEGORY'], axis=1)\n",
    "'''\n",
    "[1. 0. 0. 0.] e\n",
    "[0. 1. 0. 0.] b\n",
    "[0. 0. 1. 0.] t\n",
    "[0. 0. 0. 1.] m\n",
    "'''"
   ]
  },
  {
   "cell_type": "code",
   "execution_count": 16,
   "metadata": {},
   "outputs": [
    {
     "data": {
      "text/html": [
       "<div>\n",
       "<style scoped>\n",
       "    .dataframe tbody tr th:only-of-type {\n",
       "        vertical-align: middle;\n",
       "    }\n",
       "\n",
       "    .dataframe tbody tr th {\n",
       "        vertical-align: top;\n",
       "    }\n",
       "\n",
       "    .dataframe thead th {\n",
       "        text-align: right;\n",
       "    }\n",
       "</style>\n",
       "<table border=\"1\" class=\"dataframe\">\n",
       "  <thead>\n",
       "    <tr style=\"text-align: right;\">\n",
       "      <th></th>\n",
       "      <th>TITLE</th>\n",
       "      <th>CATEGORY</th>\n",
       "      <th>LABEL</th>\n",
       "    </tr>\n",
       "  </thead>\n",
       "  <tbody>\n",
       "    <tr>\n",
       "      <th>7047</th>\n",
       "      <td>​Alicia Keys and Swizz Beatz expecting second ...</td>\n",
       "      <td>e</td>\n",
       "      <td>0</td>\n",
       "    </tr>\n",
       "    <tr>\n",
       "      <th>157080</th>\n",
       "      <td>FDA Approves Inhaled Insulin</td>\n",
       "      <td>m</td>\n",
       "      <td>3</td>\n",
       "    </tr>\n",
       "    <tr>\n",
       "      <th>35081</th>\n",
       "      <td>Dolly Parton celebrates 100 million album sale...</td>\n",
       "      <td>e</td>\n",
       "      <td>0</td>\n",
       "    </tr>\n",
       "    <tr>\n",
       "      <th>51149</th>\n",
       "      <td>A Busy Week In The Forex Market</td>\n",
       "      <td>b</td>\n",
       "      <td>1</td>\n",
       "    </tr>\n",
       "    <tr>\n",
       "      <th>151886</th>\n",
       "      <td>Arizona Federal Court Refuses to Block Restric...</td>\n",
       "      <td>m</td>\n",
       "      <td>3</td>\n",
       "    </tr>\n",
       "  </tbody>\n",
       "</table>\n",
       "</div>"
      ],
      "text/plain": [
       "                                                    TITLE CATEGORY  LABEL\n",
       "7047    ​Alicia Keys and Swizz Beatz expecting second ...        e      0\n",
       "157080                       FDA Approves Inhaled Insulin        m      3\n",
       "35081   Dolly Parton celebrates 100 million album sale...        e      0\n",
       "51149                     A Busy Week In The Forex Market        b      1\n",
       "151886  Arizona Federal Court Refuses to Block Restric...        m      3"
      ]
     },
     "execution_count": 16,
     "metadata": {},
     "output_type": "execute_result"
    }
   ],
   "source": [
    "concated.head()"
   ]
  },
  {
   "cell_type": "code",
   "execution_count": 17,
   "metadata": {},
   "outputs": [
    {
     "name": "stdout",
     "output_type": "stream",
     "text": [
      "Found 53223 unique tokens.\n"
     ]
    }
   ],
   "source": [
    "n_most_common_words = 8000\n",
    "max_len = 130\n",
    "\n",
    "tokenizer = Tokenizer(num_words=n_most_common_words, filters='!\"#$%&()*+,-./:;<=>?@[\\]^_`{|}~', lower=True)\n",
    "tokenizer.fit_on_texts(concated['TITLE'].values)\n",
    "sequences = tokenizer.texts_to_sequences(concated['TITLE'].values)\n",
    "word_index = tokenizer.word_index\n",
    "\n",
    "print('Found %s unique tokens.' % len(word_index))\n",
    "\n",
    "X = pad_sequences(sequences, maxlen=max_len)"
   ]
  },
  {
   "cell_type": "code",
   "execution_count": 21,
   "metadata": {},
   "outputs": [
    {
     "name": "stdout",
     "output_type": "stream",
     "text": [
      "((135000, 130), (135000, 4), (45000, 130), (45000, 4))\n"
     ]
    }
   ],
   "source": [
    "X_train, X_test, y_train, y_test = train_test_split(X , labels, test_size=0.25, random_state=42)\n",
    "print((X_train.shape, y_train.shape, X_test.shape, y_test.shape))"
   ]
  },
  {
   "cell_type": "code",
   "execution_count": 22,
   "metadata": {},
   "outputs": [],
   "source": [
    "epochs = 10\n",
    "emb_dim = 128\n",
    "batch_size = 256"
   ]
  },
  {
   "cell_type": "code",
   "execution_count": 25,
   "metadata": {},
   "outputs": [
    {
     "name": "stdout",
     "output_type": "stream",
     "text": [
      "Model: \"sequential\"\n",
      "_________________________________________________________________\n",
      "Layer (type)                 Output Shape              Param #   \n",
      "=================================================================\n",
      "embedding (Embedding)        (None, 130, 128)          1024000   \n",
      "_________________________________________________________________\n",
      "spatial_dropout1d (SpatialDr (None, 130, 128)          0         \n",
      "_________________________________________________________________\n",
      "lstm (LSTM)                  (None, 64)                49408     \n",
      "_________________________________________________________________\n",
      "dense (Dense)                (None, 4)                 260       \n",
      "=================================================================\n",
      "Total params: 1,073,668\n",
      "Trainable params: 1,073,668\n",
      "Non-trainable params: 0\n",
      "_________________________________________________________________\n",
      "None\n",
      "Epoch 1/10\n",
      "422/422 [==============================] - 157s 372ms/step - loss: 0.7338 - acc: 0.7030 - val_loss: 0.3042 - val_acc: 0.9001\n",
      "Epoch 2/10\n",
      "422/422 [==============================] - 155s 368ms/step - loss: 0.3506 - acc: 0.8776 - val_loss: 0.2508 - val_acc: 0.9141\n",
      "Epoch 3/10\n",
      "422/422 [==============================] - 160s 380ms/step - loss: 0.2881 - acc: 0.9003 - val_loss: 0.2306 - val_acc: 0.9200\n",
      "Epoch 4/10\n",
      "422/422 [==============================] - 154s 366ms/step - loss: 0.2594 - acc: 0.9098 - val_loss: 0.2254 - val_acc: 0.9207\n",
      "Epoch 5/10\n",
      "422/422 [==============================] - 156s 369ms/step - loss: 0.2401 - acc: 0.9153 - val_loss: 0.2188 - val_acc: 0.9235\n",
      "Epoch 6/10\n",
      "422/422 [==============================] - 156s 369ms/step - loss: 0.2262 - acc: 0.9215 - val_loss: 0.2194 - val_acc: 0.9246\n",
      "Epoch 7/10\n",
      "422/422 [==============================] - 155s 368ms/step - loss: 0.2182 - acc: 0.9244 - val_loss: 0.2175 - val_acc: 0.9243\n",
      "Epoch 8/10\n",
      "422/422 [==============================] - 155s 368ms/step - loss: 0.2095 - acc: 0.9262 - val_loss: 0.2159 - val_acc: 0.9258\n",
      "Epoch 9/10\n",
      "422/422 [==============================] - 155s 368ms/step - loss: 0.2027 - acc: 0.9291 - val_loss: 0.2168 - val_acc: 0.9253\n",
      "Epoch 10/10\n",
      "422/422 [==============================] - 156s 369ms/step - loss: 0.1982 - acc: 0.9301 - val_loss: 0.2178 - val_acc: 0.9258\n"
     ]
    }
   ],
   "source": [
    "model = keras.models.Sequential([\n",
    "    keras.layers.Embedding(n_most_common_words, emb_dim, input_length=X.shape[1]),\n",
    "    keras.layers.SpatialDropout1D(0.7),\n",
    "    keras.layers.LSTM(64, dropout=0.7, recurrent_dropout=0.7),\n",
    "    keras.layers.Dense(4, activation='softmax')\n",
    "])\n",
    "\n",
    "model.compile(optimizer='adam', loss='categorical_crossentropy', metrics=['acc'])\n",
    "\n",
    "print(model.summary())\n",
    "\n",
    "callbacks = keras.callbacks.EarlyStopping(monitor='val_loss',patience=7, min_delta=0.0001)\n",
    "\n",
    "history = model.fit(X_train, y_train, epochs=epochs, batch_size=batch_size, validation_split=0.2,\n",
    "                    callbacks=[callbacks])"
   ]
  },
  {
   "cell_type": "code",
   "execution_count": 26,
   "metadata": {},
   "outputs": [
    {
     "name": "stdout",
     "output_type": "stream",
     "text": [
      "1407/1407 [==============================] - 22s 15ms/step - loss: 0.2237 - acc: 0.9241\n",
      "Test set\n",
      "  Loss: 0.224\n",
      "  Accuracy: 0.924\n"
     ]
    }
   ],
   "source": [
    "accr = model.evaluate(X_test,y_test)\n",
    "print('Test set\\n  Loss: {:0.3f}\\n  Accuracy: {:0.3f}'.format(accr[0],accr[1]))"
   ]
  },
  {
   "cell_type": "code",
   "execution_count": 27,
   "metadata": {},
   "outputs": [
    {
     "data": {
      "image/png": "[encoded data removed]",
      "text/plain": [
       "<Figure size 432x288 with 1 Axes>"
      ]
     },
     "metadata": {
      "needs_background": "light"
     },
     "output_type": "display_data"
    },
    {
     "data": {
      "image/png": "[encoded data removed]",
      "text/plain": [
       "<Figure size 432x288 with 1 Axes>"
      ]
     },
     "metadata": {
      "needs_background": "light"
     },
     "output_type": "display_data"
    }
   ],
   "source": [
    "acc = history.history['acc']\n",
    "val_acc = history.history['val_acc']\n",
    "loss = history.history['loss']\n",
    "val_loss = history.history['val_loss']\n",
    "\n",
    "epochs = range(1, len(acc) + 1)\n",
    "\n",
    "plt.plot(epochs, acc, 'bo', label='Training acc')\n",
    "plt.plot(epochs, val_acc, 'b', label='Validation acc')\n",
    "plt.title('Training and validation accuracy')\n",
    "plt.legend()\n",
    "\n",
    "plt.figure()\n",
    "\n",
    "plt.plot(epochs, loss, 'bo', label='Training loss')\n",
    "plt.plot(epochs, val_loss, 'b', label='Validation loss')\n",
    "plt.title('Training and validation loss')\n",
    "plt.legend()\n",
    "\n",
    "plt.show()"
   ]
  },
  {
   "cell_type": "code",
   "execution_count": 28,
   "metadata": {},
   "outputs": [
    {
     "name": "stdout",
     "output_type": "stream",
     "text": [
      "[[6.9432455e-05 1.2693807e-03 7.0648777e-05 9.9859053e-01]] health\n"
     ]
    }
   ],
   "source": [
    "txt = [\"Regular fast food eating linked to fertility issues in women\"]\n",
    "seq = tokenizer.texts_to_sequences(txt)\n",
    "padded = pad_sequences(seq, maxlen=max_len)\n",
    "pred = model.predict(padded)\n",
    "labels = ['entertainment', 'bussiness', 'science/tech', 'health']\n",
    "print(pred, labels[np.argmax(pred)])"
   ]
  }
 ],
 "metadata": {
  "kernelspec": {
   "display_name": "Python 3",
   "language": "python",
   "name": "python3"
  },
  "language_info": {
   "codemirror_mode": {
    "name": "ipython",
    "version": 3
   },
   "file_extension": ".py",
   "mimetype": "text/x-python",
   "name": "python",
   "nbconvert_exporter": "python",
   "pygments_lexer": "ipython3",
   "version": "3.7.6"
  }
 },
 "nbformat": 4,
 "nbformat_minor": 4
}
